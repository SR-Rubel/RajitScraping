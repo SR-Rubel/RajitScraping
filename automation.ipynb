{
 "cells": [
  {
   "cell_type": "code",
   "execution_count": 1,
   "metadata": {},
   "outputs": [],
   "source": [
    "from outscraper_func import *"
   ]
  },
  {
   "cell_type": "code",
   "execution_count": 2,
   "metadata": {},
   "outputs": [],
   "source": [
    "file = open('example.txt','r')\n",
    "lines = file.readlines()"
   ]
  },
  {
   "cell_type": "code",
   "execution_count": 3,
   "metadata": {},
   "outputs": [
    {
     "data": {
      "text/plain": [
       "['zip_code area    limit    business_types\\n',\n",
       " '95608,      CA,     5,        Restaurants, Real Estate Agents\\n',\n",
       " '90011,      CA,     5,        Restaurants, Real Estate Agents']"
      ]
     },
     "execution_count": 3,
     "metadata": {},
     "output_type": "execute_result"
    }
   ],
   "source": [
    "lines"
   ]
  },
  {
   "cell_type": "code",
   "execution_count": 4,
   "metadata": {},
   "outputs": [
    {
     "name": "stdout",
     "output_type": "stream",
     "text": [
      "['        Restaurants', ' Real Estate Agents\\n']\n",
      "None\n",
      "None\n",
      "['        Restaurants', ' Real Estate Agents']\n"
     ]
    }
   ],
   "source": [
    "fileHelper = outscrapperHelper()\n",
    "queries = fileHelper.processInput(lines)"
   ]
  }
 ],
 "metadata": {
  "kernelspec": {
   "display_name": "mining",
   "language": "python",
   "name": "python3"
  },
  "language_info": {
   "codemirror_mode": {
    "name": "ipython",
    "version": 3
   },
   "file_extension": ".py",
   "mimetype": "text/x-python",
   "name": "python",
   "nbconvert_exporter": "python",
   "pygments_lexer": "ipython3",
   "version": "3.9.0"
  },
  "orig_nbformat": 4,
  "vscode": {
   "interpreter": {
    "hash": "179f868151748d0e1761a56697e806d57b7323f2f273f2649bcb1a8c6bf27f87"
   }
  }
 },
 "nbformat": 4,
 "nbformat_minor": 2
}
