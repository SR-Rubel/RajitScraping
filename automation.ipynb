{
 "cells": [
  {
   "cell_type": "code",
   "execution_count": 5,
   "metadata": {},
   "outputs": [],
   "source": [
    "from outscraper_func import *"
   ]
  },
  {
   "cell_type": "code",
   "execution_count": 6,
   "metadata": {},
   "outputs": [],
   "source": [
    "file = open('example.txt','r')\n",
    "lines = file.readlines()"
   ]
  },
  {
   "cell_type": "code",
   "execution_count": 2,
   "metadata": {},
   "outputs": [
    {
     "data": {
      "text/plain": [
       "['zip_code area    limit    business_types\\n',\n",
       " '95608,      CA,     5,        Restaurants, Real Estate Agents\\n',\n",
       " '90011,      CA,     5,        Restaurants, Real Estate Agents']"
      ]
     },
     "execution_count": 2,
     "metadata": {},
     "output_type": "execute_result"
    }
   ],
   "source": [
    "lines"
   ]
  },
  {
   "cell_type": "code",
   "execution_count": 5,
   "metadata": {},
   "outputs": [
    {
     "name": "stdout",
     "output_type": "stream",
     "text": [
      "Wait, we are fetching data for you...\n",
      "1csv file saved!!\n",
      "2csv file saved!!\n"
     ]
    }
   ],
   "source": [
    "fileHelper = outscrapperHelper()\n",
    "try:\n",
    "    queries = fileHelper.processInput(lines)\n",
    "except:\n",
    "    queries = fileHelper.processInput(lines)"
   ]
  },
  {
   "cell_type": "code",
   "execution_count": 7,
   "metadata": {},
   "outputs": [
    {
     "name": "stdout",
     "output_type": "stream",
     "text": [
      "Wait, we are fetching data for you...\n",
      "1 csv file saved!!\n",
      "2 csv file saved!!\n"
     ]
    }
   ],
   "source": [
    "fileHelper = outscrapperHelper()\n",
    "max_retries = 5\n",
    "for i in range(max_retries):\n",
    "    try:\n",
    "        # Call the function here\n",
    "        queries = fileHelper.processInput(lines)\n",
    "        break\n",
    "    except Exception as e:\n",
    "        if i == max_retries - 1:\n",
    "            print(\"The server is busy. Please try again later..\")"
   ]
  }
 ],
 "metadata": {
  "kernelspec": {
   "display_name": "mining",
   "language": "python",
   "name": "python3"
  },
  "language_info": {
   "codemirror_mode": {
    "name": "ipython",
    "version": 3
   },
   "file_extension": ".py",
   "mimetype": "text/x-python",
   "name": "python",
   "nbconvert_exporter": "python",
   "pygments_lexer": "ipython3",
   "version": "3.9.0"
  },
  "orig_nbformat": 4,
  "vscode": {
   "interpreter": {
    "hash": "179f868151748d0e1761a56697e806d57b7323f2f273f2649bcb1a8c6bf27f87"
   }
  }
 },
 "nbformat": 4,
 "nbformat_minor": 2
}
