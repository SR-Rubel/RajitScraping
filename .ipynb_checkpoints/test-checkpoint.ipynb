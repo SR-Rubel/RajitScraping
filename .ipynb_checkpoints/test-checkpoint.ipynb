{
 "cells": [
  {
   "cell_type": "code",
   "execution_count": 2,
   "metadata": {},
   "outputs": [],
   "source": [
    "from outscraper import ApiClient\n",
    "\n",
    "client = ApiClient(api_key='YXV0aDB8NjMzY2YxNjA0YzdhNjRlOTc4NWY3NTZhfDI3OTAwOGEwOWI')"
   ]
  },
  {
   "cell_type": "code",
   "execution_count": 20,
   "metadata": {},
   "outputs": [],
   "source": [
    "# Search for businesses in specific locations:\n",
    "results = client.google_maps_search('Real Estate Agent 95608 CA', limit=2, language='en')"
   ]
  },
  {
   "cell_type": "code",
   "execution_count": 21,
   "metadata": {},
   "outputs": [
    {
     "data": {
      "text/plain": [
       "[[{'query': 'Real Estate Agent 95608 CA',\n",
       "   'name': 'eXp Realty of California, Inc.-Raymond Henson',\n",
       "   'place_id': 'ChIJ7QlUZPPImoAR8H5QrWL126U',\n",
       "   'google_id': '0x809ac8f3645409ed:0xa5dbf562ad507ef0',\n",
       "   'full_address': '5921 Landis Ave, Carmichael, CA 95608',\n",
       "   'borough': None,\n",
       "   'street': '5921 Landis Ave',\n",
       "   'postal_code': '95608',\n",
       "   'area_service': False,\n",
       "   'country_code': 'US',\n",
       "   'country': 'United States of America',\n",
       "   'city': 'Carmichael',\n",
       "   'us_state': 'California',\n",
       "   'state': 'California',\n",
       "   'plus_code': None,\n",
       "   'latitude': 38.6263213,\n",
       "   'longitude': -121.3273023,\n",
       "   'time_zone': 'America/Los_Angeles',\n",
       "   'popular_times': None,\n",
       "   'site': 'http://www.raymondhenson.com/',\n",
       "   'phone': '+1 916-698-8414',\n",
       "   'type': 'Real estate agency',\n",
       "   'logo': 'https://lh5.googleusercontent.com/-h91o_JTUoXQ/AAAAAAAAAAI/AAAAAAAAAAA/bF7mkf8NsIg/s44-p-k-no-ns-nd/photo.jpg',\n",
       "   'description': None,\n",
       "   'located_in': None,\n",
       "   'located_google_id': None,\n",
       "   'category': 'Real estate agency',\n",
       "   'subtypes': 'Real estate agency',\n",
       "   'posts': None,\n",
       "   'reviews_tags': None,\n",
       "   'rating': 5,\n",
       "   'reviews': 20,\n",
       "   'photos_count': 242,\n",
       "   'cid': '11951415840321076976',\n",
       "   'reviews_link': 'https://search.google.com/local/reviews?placeid=ChIJ7QlUZPPImoAR8H5QrWL126U&q=Real+Estate+Agent+95608+CA&authuser=0&hl=en&gl=US',\n",
       "   'reviews_id': '-6495328233388474640',\n",
       "   'photo': 'https://lh5.googleusercontent.com/p/AF1QipPB_Dkcze6OBL87g6_WWPIe4cVGpQYwwawTNsO3=w800-h500-k-no',\n",
       "   'street_view': 'https://lh5.googleusercontent.com/p/AF1QipPB_Dkcze6OBL87g6_WWPIe4cVGpQYwwawTNsO3=w1600-h1000-k-no',\n",
       "   'working_hours_old_format': 'Monday: 9\\u202fAM-7\\u202fPM | Tuesday: 9\\u202fAM-7\\u202fPM | Wednesday: 9\\u202fAM-7\\u202fPM | Thursday: 9\\u202fAM-7\\u202fPM | Friday: 9\\u202fAM-7\\u202fPM | Saturday: 9\\u202fAM-7\\u202fPM | Sunday: 9\\u202fAM-7\\u202fPM',\n",
       "   'working_hours': {'Monday': '9\\u202fAM-7\\u202fPM',\n",
       "    'Tuesday': '9\\u202fAM-7\\u202fPM',\n",
       "    'Wednesday': '9\\u202fAM-7\\u202fPM',\n",
       "    'Thursday': '9\\u202fAM-7\\u202fPM',\n",
       "    'Friday': '9\\u202fAM-7\\u202fPM',\n",
       "    'Saturday': '9\\u202fAM-7\\u202fPM',\n",
       "    'Sunday': '9\\u202fAM-7\\u202fPM'},\n",
       "   'other_hours': None,\n",
       "   'business_status': 'OPERATIONAL',\n",
       "   'about': {'Service options': {'Online appointments': True,\n",
       "     'Onsite services': True},\n",
       "    'Accessibility': {'Wheelchair accessible entrance': True},\n",
       "    'Planning': {'Appointment required': True}},\n",
       "   'range': None,\n",
       "   'reviews_per_score': {'1': 0, '2': 0, '3': 0, '4': 0, '5': 20},\n",
       "   'reservation_links': None,\n",
       "   'booking_appointment_link': None,\n",
       "   'menu_link': None,\n",
       "   'order_links': None,\n",
       "   'owner_id': '113680313583214210622',\n",
       "   'verified': True,\n",
       "   'owner_title': 'eXp Realty of California, Inc.-Raymond Henson',\n",
       "   'owner_link': 'https://www.google.com/maps/contrib/113680313583214210622',\n",
       "   'location_link': 'https://www.google.com/maps/place/eXp+Realty+of+California%2C+Inc.-Raymond+Henson/@38.6263213,-121.3273023,14z/data=!4m8!1m2!2m1!1seXp+Realty+of+California%2C+Inc.-Raymond+Henson!3m4!1s0x809ac8f3645409ed:0xa5dbf562ad507ef0!8m2!3d38.6263213!4d-121.3273023'},\n",
       "  {'query': 'Real Estate Agent 95608 CA',\n",
       "   'name': 'Craig Diez Realtor - Diez & Sigg Properties',\n",
       "   'place_id': 'ChIJMejcDCHcmoARJfOxOb3HB5I',\n",
       "   'google_id': '0x809adc210cdce831:0x9207c7bd39b1f325',\n",
       "   'full_address': '7144 Fair Oaks Blvd Unit 7, Carmichael, CA 95608',\n",
       "   'borough': None,\n",
       "   'street': '7144 Fair Oaks Blvd Unit 7',\n",
       "   'postal_code': '95608',\n",
       "   'area_service': False,\n",
       "   'country_code': 'US',\n",
       "   'country': 'United States of America',\n",
       "   'city': 'Carmichael',\n",
       "   'us_state': 'California',\n",
       "   'state': 'California',\n",
       "   'plus_code': None,\n",
       "   'latitude': 38.630925,\n",
       "   'longitude': -121.32735299999999,\n",
       "   'time_zone': 'America/Los_Angeles',\n",
       "   'popular_times': None,\n",
       "   'site': 'http://craigdiezproperties.com/',\n",
       "   'phone': '+1 916-425-5884',\n",
       "   'type': 'Real estate agency',\n",
       "   'logo': 'https://lh5.googleusercontent.com/-UZIDEJD9fRo/AAAAAAAAAAI/AAAAAAAAAAA/xokkgFxG2Fk/s44-p-k-no-ns-nd/photo.jpg',\n",
       "   'description': None,\n",
       "   'located_in': None,\n",
       "   'located_google_id': None,\n",
       "   'category': 'Real estate agency',\n",
       "   'subtypes': 'Real estate agency, Real estate consultant',\n",
       "   'posts': None,\n",
       "   'reviews_tags': None,\n",
       "   'rating': 4.9,\n",
       "   'reviews': 16,\n",
       "   'photos_count': 8,\n",
       "   'cid': '10522598669905163045',\n",
       "   'reviews_link': 'https://search.google.com/local/reviews?placeid=ChIJMejcDCHcmoARJfOxOb3HB5I&q=Real+Estate+Agent+95608+CA&authuser=0&hl=en&gl=US',\n",
       "   'reviews_id': '-7924145403804388571',\n",
       "   'photo': 'https://lh5.googleusercontent.com/p/AF1QipMQiXzkAOCjax5vDkY5efB9APiYokZDrg8yF7o_=w800-h500-k-no',\n",
       "   'street_view': 'https://lh5.googleusercontent.com/p/AF1QipMQiXzkAOCjax5vDkY5efB9APiYokZDrg8yF7o_=w1600-h1000-k-no',\n",
       "   'working_hours_old_format': 'Monday: 8\\u202fAM-6\\u202fPM | Tuesday: 8\\u202fAM-6\\u202fPM | Wednesday: 8\\u202fAM-6\\u202fPM | Thursday: 8\\u202fAM-6\\u202fPM | Friday: 8\\u202fAM-6\\u202fPM | Saturday: 8\\u202fAM-6\\u202fPM | Sunday: 8\\u202fAM-6\\u202fPM',\n",
       "   'working_hours': {'Monday': '8\\u202fAM-6\\u202fPM',\n",
       "    'Tuesday': '8\\u202fAM-6\\u202fPM',\n",
       "    'Wednesday': '8\\u202fAM-6\\u202fPM',\n",
       "    'Thursday': '8\\u202fAM-6\\u202fPM',\n",
       "    'Friday': '8\\u202fAM-6\\u202fPM',\n",
       "    'Saturday': '8\\u202fAM-6\\u202fPM',\n",
       "    'Sunday': '8\\u202fAM-6\\u202fPM'},\n",
       "   'other_hours': None,\n",
       "   'business_status': 'OPERATIONAL',\n",
       "   'about': {'Accessibility': {'Wheelchair accessible entrance': True}},\n",
       "   'range': None,\n",
       "   'reviews_per_score': {'1': 0, '2': 0, '3': 0, '4': 1, '5': 15},\n",
       "   'reservation_links': None,\n",
       "   'booking_appointment_link': 'https://www.craigdiezproperties.com/contact/',\n",
       "   'menu_link': None,\n",
       "   'order_links': None,\n",
       "   'owner_id': '110549647328161306409',\n",
       "   'verified': True,\n",
       "   'owner_title': 'Craig Diez Realtor - Diez & Sigg Properties',\n",
       "   'owner_link': 'https://www.google.com/maps/contrib/110549647328161306409',\n",
       "   'location_link': 'https://www.google.com/maps/place/Craig+Diez+Realtor+-+Diez+%26+Sigg+Properties/@38.630925,-121.32735299999999,14z/data=!4m8!1m2!2m1!1sCraig+Diez+Realtor+-+Diez+%26+Sigg+Properties!3m4!1s0x809adc210cdce831:0x9207c7bd39b1f325!8m2!3d38.630925!4d-121.32735299999999'}]]"
      ]
     },
     "execution_count": 21,
     "metadata": {},
     "output_type": "execute_result"
    }
   ],
   "source": [
    "results"
   ]
  },
  {
   "cell_type": "code",
   "execution_count": 22,
   "metadata": {},
   "outputs": [],
   "source": [
    "new_dict = {'name':[results[0][0]['name'],results[0][1]['name']],'address':[results[0][0]['full_address'],results[0][1]['full_address']],'phone':[results[0][0]['phone'],results[0][1]['phone']]}"
   ]
  },
  {
   "cell_type": "code",
   "execution_count": 23,
   "metadata": {},
   "outputs": [
    {
     "data": {
      "text/plain": [
       "{'name': ['eXp Realty of California, Inc.-Raymond Henson',\n",
       "  'Craig Diez Realtor - Diez & Sigg Properties'],\n",
       " 'address': ['5921 Landis Ave, Carmichael, CA 95608',\n",
       "  '7144 Fair Oaks Blvd Unit 7, Carmichael, CA 95608'],\n",
       " 'phone': ['+1 916-698-8414', '+1 916-425-5884']}"
      ]
     },
     "execution_count": 23,
     "metadata": {},
     "output_type": "execute_result"
    }
   ],
   "source": [
    "new_dict"
   ]
  },
  {
   "cell_type": "code",
   "execution_count": 8,
   "metadata": {},
   "outputs": [],
   "source": [
    "import pandas as pd"
   ]
  },
  {
   "cell_type": "code",
   "execution_count": 24,
   "metadata": {},
   "outputs": [],
   "source": [
    "df = pd.DataFrame.from_dict(new_dict)"
   ]
  },
  {
   "cell_type": "code",
   "execution_count": 25,
   "metadata": {},
   "outputs": [
    {
     "data": {
      "text/html": [
       "<div>\n",
       "<style scoped>\n",
       "    .dataframe tbody tr th:only-of-type {\n",
       "        vertical-align: middle;\n",
       "    }\n",
       "\n",
       "    .dataframe tbody tr th {\n",
       "        vertical-align: top;\n",
       "    }\n",
       "\n",
       "    .dataframe thead th {\n",
       "        text-align: right;\n",
       "    }\n",
       "</style>\n",
       "<table border=\"1\" class=\"dataframe\">\n",
       "  <thead>\n",
       "    <tr style=\"text-align: right;\">\n",
       "      <th></th>\n",
       "      <th>name</th>\n",
       "      <th>address</th>\n",
       "      <th>phone</th>\n",
       "    </tr>\n",
       "  </thead>\n",
       "  <tbody>\n",
       "    <tr>\n",
       "      <th>0</th>\n",
       "      <td>eXp Realty of California, Inc.-Raymond Henson</td>\n",
       "      <td>5921 Landis Ave, Carmichael, CA 95608</td>\n",
       "      <td>+1 916-698-8414</td>\n",
       "    </tr>\n",
       "    <tr>\n",
       "      <th>1</th>\n",
       "      <td>Craig Diez Realtor - Diez &amp; Sigg Properties</td>\n",
       "      <td>7144 Fair Oaks Blvd Unit 7, Carmichael, CA 95608</td>\n",
       "      <td>+1 916-425-5884</td>\n",
       "    </tr>\n",
       "  </tbody>\n",
       "</table>\n",
       "</div>"
      ],
      "text/plain": [
       "                                            name  \\\n",
       "0  eXp Realty of California, Inc.-Raymond Henson   \n",
       "1    Craig Diez Realtor - Diez & Sigg Properties   \n",
       "\n",
       "                                            address            phone  \n",
       "0             5921 Landis Ave, Carmichael, CA 95608  +1 916-698-8414  \n",
       "1  7144 Fair Oaks Blvd Unit 7, Carmichael, CA 95608  +1 916-425-5884  "
      ]
     },
     "execution_count": 25,
     "metadata": {},
     "output_type": "execute_result"
    }
   ],
   "source": [
    "df"
   ]
  },
  {
   "cell_type": "code",
   "execution_count": 29,
   "metadata": {},
   "outputs": [],
   "source": [
    "df.to_csv(\"real_estate_agents.csv\",index=False)"
   ]
  }
 ],
 "metadata": {
  "kernelspec": {
   "display_name": "Python 3 (ipykernel)",
   "language": "python",
   "name": "python3"
  },
  "language_info": {
   "codemirror_mode": {
    "name": "ipython",
    "version": 3
   },
   "file_extension": ".py",
   "mimetype": "text/x-python",
   "name": "python",
   "nbconvert_exporter": "python",
   "pygments_lexer": "ipython3",
   "version": "3.9.0"
  },
  "vscode": {
   "interpreter": {
    "hash": "8a124c5556e2b52008e0c4733e13ccc55ea8c58d4d0704accbb92b8e7a8b49c4"
   }
  }
 },
 "nbformat": 4,
 "nbformat_minor": 2
}
